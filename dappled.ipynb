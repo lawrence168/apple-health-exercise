{
 "cells": [
  {
   "cell_type": "markdown",
   "metadata": {},
   "source": [
    "# Recommended weekly exercise\n",
    "\n",
    "The American Heart Association [recommends](https://www.heart.org/en/healthy-living/fitness/fitness-basics/aha-recs-for-physical-activity-in-adults) 150 minutes per week of moderate-intensity aerobic exercise or 75 minutes per week of vigorous aerobic exercise, or a combination of the two. Using Apple Health data, see how much walking and running you are doing.\n",
    "\n",
    "To access the data on your iPhone, from the Health app go to Health Data -> [Portrait icon at top right] -> Export Health Data. Save `export.zip` to Files, which then can be uploaded to this applet from your iPhone browser."
   ]
  },
  {
   "cell_type": "code",
   "execution_count": 1,
   "metadata": {},
   "outputs": [],
   "source": [
    "apple_health_export_path = ''\n",
    "apple_health_export_path__format = 'upload'\n",
    "\n",
    "# a brisk walk is considered moderate-intensity aerobic exercise\n",
    "brisk_walk_pace = 2.5\n",
    "\n",
    "# jogging/running is considered vigorous\n",
    "jogging_pace = 3\n",
    "\n",
    "weeks = 4"
   ]
  },
  {
   "cell_type": "code",
   "execution_count": 2,
   "metadata": {},
   "outputs": [],
   "source": [
    "import zipfile\n",
    "from lxml import etree\n",
    "from collections import Counter\n",
    "import pandas as pd\n",
    "import matplotlib.pyplot as plt\n",
    "from datetime import timedelta\n",
    "from IPython.display import HTML\n",
    "\n",
    "if not apple_health_export_path:\n",
    "    apple_health_export_path = '/Users/lhon/Downloads/export.zip'"
   ]
  },
  {
   "cell_type": "code",
   "execution_count": 3,
   "metadata": {},
   "outputs": [],
   "source": [
    "# extract export.xml and parse xml\n",
    "zf = zipfile.ZipFile(apple_health_export_path)\n",
    "export_xml_path = [x.filename for x in zf.filelist if 'export.xml' in x.filename][0]\n",
    "tree = etree.parse(zf.open(export_xml_path))\n",
    "root = tree.getroot()\n",
    "\n",
    "# identify iPhone sourceName descriptor based on frequency\n",
    "sourceName = Counter(e.attrib['sourceName'] for e in root.xpath('//Record')).most_common()[0][0]"
   ]
  },
  {
   "cell_type": "code",
   "execution_count": 4,
   "metadata": {},
   "outputs": [],
   "source": [
    "def get_time_in_seconds(t):\n",
    "    return int(t[11:13])*3600 + int(t[14:16])*60 + int(t[17:19])\n",
    "\n",
    "# extract data into dataframe\n",
    "data = []\n",
    "for elem in root.xpath('//Record[@type=\"HKQuantityTypeIdentifierDistanceWalkingRunning\" and @sourceName=\"%s\"]' % sourceName):\n",
    "    start = get_time_in_seconds(elem.attrib['startDate'])\n",
    "    end = get_time_in_seconds(elem.attrib['endDate'])\n",
    "    seconds = end - start\n",
    "    if seconds < 300: continue\n",
    "    distance = float(elem.attrib['value'])\n",
    "    date = elem.attrib['startDate'][:10]\n",
    "    data.append([seconds/60, distance, distance/(seconds/3600), date])\n",
    "df = pd.DataFrame(data, columns='minutes distance speed date'.split())"
   ]
  },
  {
   "cell_type": "code",
   "execution_count": 5,
   "metadata": {},
   "outputs": [],
   "source": [
    "# https://stackoverflow.com/questions/29882573/pandas-slow-date-conversion\n",
    "def date_lookup(s):\n",
    "    dates = {date:pd.to_datetime(date) for date in s.unique()}\n",
    "    return s.map(dates)\n",
    "df['date'] = date_lookup(df['date'])\n",
    "#df.head()"
   ]
  },
  {
   "cell_type": "code",
   "execution_count": 6,
   "metadata": {},
   "outputs": [
    {
     "data": {
      "text/html": [
       "Active minutes per week:<br /><span style=\"font-size: 36px\">158</span>"
      ],
      "text/plain": [
       "<IPython.core.display.HTML object>"
      ]
     },
     "execution_count": 6,
     "metadata": {},
     "output_type": "execute_result"
    }
   ],
   "source": [
    "# assign activity labels based on speed\n",
    "moderate = 'brisk walk'\n",
    "vigorous = 'jogging/running'\n",
    "labels = [moderate, vigorous]\n",
    "df['activity'] = pd.cut(df.speed, [brisk_walk_pace, jogging_pace, 20], labels=labels)\n",
    "\n",
    "# find date N weeks ago\n",
    "end = df.iloc[-1].date\n",
    "start = end - timedelta(days=weeks*7-1)\n",
    "\n",
    "# calculate activity time per week for time range\n",
    "summary = (df\n",
    " .query('date >= @start and minutes >= 9 and activity.isin(@labels)')\n",
    " .groupby('activity').minutes.sum().div(weeks)\n",
    ")\n",
    "\n",
    "HTML('Active minutes per week:<br /><span style=\"font-size: 36px\">%d</span>' % (summary.loc[moderate] + summary.loc[vigorous]*2))"
   ]
  },
  {
   "cell_type": "code",
   "execution_count": 7,
   "metadata": {},
   "outputs": [
    {
     "data": {
      "image/png": "[encoded data removed]",
      "text/plain": [
       "<Figure size 432x288 with 1 Axes>"
      ]
     },
     "metadata": {
      "needs_background": "light"
     },
     "output_type": "display_data"
    }
   ],
   "source": [
    "temp = (df\n",
    " .set_index('date')\n",
    " .query('date > @start and minutes >= 9')\n",
    " .groupby([pd.Grouper(freq=\"W\"), 'activity'])['minutes'].sum()\n",
    " .unstack('activity')\n",
    ")\n",
    "temp.index = temp.index.format()\n",
    "temp.plot.bar(stacked=False)\n",
    "plt.ylabel('Minutes');"
   ]
  }
 ],
 "metadata": {
  "kernelspec": {
   "display_name": "Python 3",
   "language": "python",
   "name": "python3"
  },
  "language_info": {
   "codemirror_mode": {
    "name": "ipython",
    "version": 3
   },
   "file_extension": ".py",
   "mimetype": "text/x-python",
   "name": "python",
   "nbconvert_exporter": "python",
   "pygments_lexer": "ipython3",
   "version": "3.6.7"
  }
 },
 "nbformat": 4,
 "nbformat_minor": 2
}
